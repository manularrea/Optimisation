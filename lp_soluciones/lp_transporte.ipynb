{
  "cells": [
    {
      "cell_type": "markdown",
      "metadata": {
        "id": "Eo4JvxW-aNZv"
      },
      "source": [
        "## Problema del Transporte\n",
        "\n",
        "¿Cuál es el esquema óptimo de transporte entre las fábricas y los mercados que minimiza el coste?\n",
        "\n",
        "\n",
        "### Formulación matemática\n",
        "\n",
        "* $f \\in F$: fábricas\n",
        "* $m \\in M$: mercados\n",
        "* $c_{fm}$: costes de transporte entre cada fábrica y mercado\n",
        "* $u_{fm}$: unidades transportadas entre cada fábrica y mercado\n",
        "* $d_m$: demanda de cada mercado\n",
        "* $p_f$: tope de producción de cada fábrica\n",
        "\n",
        "\\begin{eqnarray*}\n",
        "\\min_{u_{fm}} & \\sum_{f \\in F} \\sum_{m \\in M} c_{fm} u_{fm} \\\\\n",
        "\\text{s.t.} & \\\\\n",
        "  & \\sum_{f \\in F} u_{fm} \\geq d_{m} & \\forall m \\in M \\\\\n",
        "  & \\sum_{m \\in M} u_{fm} \\leq p_{f} & \\forall f \\in F \\\\\n",
        "  & u_{fm} \\geq 0 & \\forall f \\in F, \\forall m \\in M\n",
        "\\end{eqnarray*}\n",
        "\n"
      ]
    },
    {
      "cell_type": "markdown",
      "metadata": {
        "id": "JFZ0MIIIaNZy"
      },
      "source": [
        "### Datos\n",
        "\n",
        "Distancia (100 km) | M1 | M2 | M3 | oferta (uds)\n",
        "  -|-|-|-|-\n",
        "  F1  | 2.5 | 1.7 | 1.8 | 350\n",
        "  F2  | 2.5 | 1.8 | 1.4 | 600\n",
        "  demanda (uds) | 325 | 300 | 275 |\n",
        "\n",
        "* Coste por distancia: 90 €/100 km"
      ]
    },
    {
      "cell_type": "code",
      "source": [
        "from pandas import DataFrame, Series"
      ],
      "metadata": {
        "id": "vC5nWvKKaiAG"
      },
      "execution_count": null,
      "outputs": []
    },
    {
      "cell_type": "code",
      "source": [
        "# Coste de cada unidad transportada (€/100 km)\n",
        "transported_unit_cost = 90\n",
        "\n",
        "# Listas con las fábricas y mercados disponibles\n",
        "factories = [\"F1\", \"F2\"]\n",
        "markets = [\"M1\", \"M2\", \"M3\"]\n",
        "\n",
        "print(transported_unit_cost, factories, markets)"
      ],
      "metadata": {
        "id": "LgfjMUHja0Al",
        "colab": {
          "base_uri": "https://localhost:8080/"
        },
        "outputId": "2ab0594b-dae7-487c-ce18-7e0f34252fb2"
      },
      "execution_count": null,
      "outputs": [
        {
          "output_type": "stream",
          "name": "stdout",
          "text": [
            "90 ['F1', 'F2'] ['M1', 'M2', 'M3']\n"
          ]
        }
      ]
    },
    {
      "cell_type": "code",
      "source": [
        "# Serie con la capacidad de fabricación de cada fábrica\n",
        "offers = Series(index=factories, data=[350, 600])\n",
        "offers"
      ],
      "metadata": {
        "id": "mArqoBdBap6d",
        "colab": {
          "base_uri": "https://localhost:8080/"
        },
        "outputId": "7bf80a23-8742-41e3-cd2b-de1e3ac5a6f2"
      },
      "execution_count": null,
      "outputs": [
        {
          "output_type": "execute_result",
          "data": {
            "text/plain": [
              "F1    350\n",
              "F2    600\n",
              "dtype: int64"
            ]
          },
          "metadata": {},
          "execution_count": 4
        }
      ]
    },
    {
      "cell_type": "code",
      "source": [
        "# Serie con la demanda de cada mercado\n",
        "demands = Series(index=markets, data=[325, 300, 275])\n",
        "demands"
      ],
      "metadata": {
        "id": "7vR08vA5avSl",
        "colab": {
          "base_uri": "https://localhost:8080/"
        },
        "outputId": "3e8dbb1b-aa55-424e-8bf8-09a1a32bb659"
      },
      "execution_count": null,
      "outputs": [
        {
          "output_type": "execute_result",
          "data": {
            "text/plain": [
              "M1    325\n",
              "M2    300\n",
              "M3    275\n",
              "dtype: int64"
            ]
          },
          "metadata": {},
          "execution_count": 5
        }
      ]
    },
    {
      "cell_type": "code",
      "execution_count": null,
      "metadata": {
        "id": "hejEewM8aNZz",
        "colab": {
          "base_uri": "https://localhost:8080/",
          "height": 112
        },
        "outputId": "924abff9-ba9d-4ea4-dbf0-1b6905eeb106"
      },
      "outputs": [
        {
          "output_type": "execute_result",
          "data": {
            "text/plain": [
              "     M1   M2   M3\n",
              "F1  2.5  1.7  1.8\n",
              "F2  2.5  1.8  1.4"
            ],
            "text/html": [
              "\n",
              "  <div id=\"df-ce342f48-cc95-4d94-b823-55d7b75331a0\">\n",
              "    <div class=\"colab-df-container\">\n",
              "      <div>\n",
              "<style scoped>\n",
              "    .dataframe tbody tr th:only-of-type {\n",
              "        vertical-align: middle;\n",
              "    }\n",
              "\n",
              "    .dataframe tbody tr th {\n",
              "        vertical-align: top;\n",
              "    }\n",
              "\n",
              "    .dataframe thead th {\n",
              "        text-align: right;\n",
              "    }\n",
              "</style>\n",
              "<table border=\"1\" class=\"dataframe\">\n",
              "  <thead>\n",
              "    <tr style=\"text-align: right;\">\n",
              "      <th></th>\n",
              "      <th>M1</th>\n",
              "      <th>M2</th>\n",
              "      <th>M3</th>\n",
              "    </tr>\n",
              "  </thead>\n",
              "  <tbody>\n",
              "    <tr>\n",
              "      <th>F1</th>\n",
              "      <td>2.5</td>\n",
              "      <td>1.7</td>\n",
              "      <td>1.8</td>\n",
              "    </tr>\n",
              "    <tr>\n",
              "      <th>F2</th>\n",
              "      <td>2.5</td>\n",
              "      <td>1.8</td>\n",
              "      <td>1.4</td>\n",
              "    </tr>\n",
              "  </tbody>\n",
              "</table>\n",
              "</div>\n",
              "      <button class=\"colab-df-convert\" onclick=\"convertToInteractive('df-ce342f48-cc95-4d94-b823-55d7b75331a0')\"\n",
              "              title=\"Convert this dataframe to an interactive table.\"\n",
              "              style=\"display:none;\">\n",
              "        \n",
              "  <svg xmlns=\"http://www.w3.org/2000/svg\" height=\"24px\"viewBox=\"0 0 24 24\"\n",
              "       width=\"24px\">\n",
              "    <path d=\"M0 0h24v24H0V0z\" fill=\"none\"/>\n",
              "    <path d=\"M18.56 5.44l.94 2.06.94-2.06 2.06-.94-2.06-.94-.94-2.06-.94 2.06-2.06.94zm-11 1L8.5 8.5l.94-2.06 2.06-.94-2.06-.94L8.5 2.5l-.94 2.06-2.06.94zm10 10l.94 2.06.94-2.06 2.06-.94-2.06-.94-.94-2.06-.94 2.06-2.06.94z\"/><path d=\"M17.41 7.96l-1.37-1.37c-.4-.4-.92-.59-1.43-.59-.52 0-1.04.2-1.43.59L10.3 9.45l-7.72 7.72c-.78.78-.78 2.05 0 2.83L4 21.41c.39.39.9.59 1.41.59.51 0 1.02-.2 1.41-.59l7.78-7.78 2.81-2.81c.8-.78.8-2.07 0-2.86zM5.41 20L4 18.59l7.72-7.72 1.47 1.35L5.41 20z\"/>\n",
              "  </svg>\n",
              "      </button>\n",
              "      \n",
              "  <style>\n",
              "    .colab-df-container {\n",
              "      display:flex;\n",
              "      flex-wrap:wrap;\n",
              "      gap: 12px;\n",
              "    }\n",
              "\n",
              "    .colab-df-convert {\n",
              "      background-color: #E8F0FE;\n",
              "      border: none;\n",
              "      border-radius: 50%;\n",
              "      cursor: pointer;\n",
              "      display: none;\n",
              "      fill: #1967D2;\n",
              "      height: 32px;\n",
              "      padding: 0 0 0 0;\n",
              "      width: 32px;\n",
              "    }\n",
              "\n",
              "    .colab-df-convert:hover {\n",
              "      background-color: #E2EBFA;\n",
              "      box-shadow: 0px 1px 2px rgba(60, 64, 67, 0.3), 0px 1px 3px 1px rgba(60, 64, 67, 0.15);\n",
              "      fill: #174EA6;\n",
              "    }\n",
              "\n",
              "    [theme=dark] .colab-df-convert {\n",
              "      background-color: #3B4455;\n",
              "      fill: #D2E3FC;\n",
              "    }\n",
              "\n",
              "    [theme=dark] .colab-df-convert:hover {\n",
              "      background-color: #434B5C;\n",
              "      box-shadow: 0px 1px 3px 1px rgba(0, 0, 0, 0.15);\n",
              "      filter: drop-shadow(0px 1px 2px rgba(0, 0, 0, 0.3));\n",
              "      fill: #FFFFFF;\n",
              "    }\n",
              "  </style>\n",
              "\n",
              "      <script>\n",
              "        const buttonEl =\n",
              "          document.querySelector('#df-ce342f48-cc95-4d94-b823-55d7b75331a0 button.colab-df-convert');\n",
              "        buttonEl.style.display =\n",
              "          google.colab.kernel.accessAllowed ? 'block' : 'none';\n",
              "\n",
              "        async function convertToInteractive(key) {\n",
              "          const element = document.querySelector('#df-ce342f48-cc95-4d94-b823-55d7b75331a0');\n",
              "          const dataTable =\n",
              "            await google.colab.kernel.invokeFunction('convertToInteractive',\n",
              "                                                     [key], {});\n",
              "          if (!dataTable) return;\n",
              "\n",
              "          const docLinkHtml = 'Like what you see? Visit the ' +\n",
              "            '<a target=\"_blank\" href=https://colab.research.google.com/notebooks/data_table.ipynb>data table notebook</a>'\n",
              "            + ' to learn more about interactive tables.';\n",
              "          element.innerHTML = '';\n",
              "          dataTable['output_type'] = 'display_data';\n",
              "          await google.colab.output.renderOutput(dataTable, element);\n",
              "          const docLink = document.createElement('div');\n",
              "          docLink.innerHTML = docLinkHtml;\n",
              "          element.appendChild(docLink);\n",
              "        }\n",
              "      </script>\n",
              "    </div>\n",
              "  </div>\n",
              "  "
            ]
          },
          "metadata": {},
          "execution_count": 6
        }
      ],
      "source": [
        "# Tabla con la distancia entre cada fábrica y mercado\n",
        "distances = DataFrame(index=factories, columns=markets, data=[[2.5, 1.7, 1.8], [2.5, 1.8, 1.4]])\n",
        "distances"
      ]
    },
    {
      "cell_type": "markdown",
      "metadata": {
        "id": "2Uyk6eydaNZ1"
      },
      "source": [
        "### Resolución con PuLP"
      ]
    },
    {
      "cell_type": "code",
      "execution_count": null,
      "metadata": {
        "id": "5wI6TH5uaNZ1",
        "colab": {
          "base_uri": "https://localhost:8080/"
        },
        "outputId": "cdf6ed4c-cded-45f8-ea7d-8ebe254ed03f"
      },
      "outputs": [
        {
          "output_type": "stream",
          "name": "stdout",
          "text": [
            "Looking in indexes: https://pypi.org/simple, https://us-python.pkg.dev/colab-wheels/public/simple/\n",
            "Collecting pulp\n",
            "  Downloading PuLP-2.7.0-py3-none-any.whl (14.3 MB)\n",
            "\u001b[2K     \u001b[90m━━━━━━━━━━━━━━━━━━━━━━━━━━━━━━━━━━━━━━━━\u001b[0m \u001b[32m14.3/14.3 MB\u001b[0m \u001b[31m78.2 MB/s\u001b[0m eta \u001b[36m0:00:00\u001b[0m\n",
            "\u001b[?25hInstalling collected packages: pulp\n",
            "Successfully installed pulp-2.7.0\n"
          ]
        }
      ],
      "source": [
        "!pip install pulp\n",
        "from pulp import *"
      ]
    },
    {
      "cell_type": "code",
      "execution_count": null,
      "metadata": {
        "id": "G6jBwBtcaNZ1",
        "colab": {
          "base_uri": "https://localhost:8080/"
        },
        "outputId": "e20ea26f-2c20-483d-db2d-cfa4e62805c0"
      },
      "outputs": [
        {
          "output_type": "execute_result",
          "data": {
            "text/plain": [
              "transport_problem:\n",
              "MAXIMIZE\n",
              "225.0*Units_F1_M1 + 153.0*Units_F1_M2 + 162.0*Units_F1_M3 + 225.0*Units_F2_M1 + 162.0*Units_F2_M2 + 125.99999999999999*Units_F2_M3 + 0.0\n",
              "SUBJECT TO\n",
              "Tope_fábrica_F1: Units_F1_M1 + Units_F1_M2 + Units_F1_M3 >= 350\n",
              "\n",
              "Tope_fábrica_F2: Units_F2_M1 + Units_F2_M2 + Units_F2_M3 >= 600\n",
              "\n",
              "Demanda_mercado_M1: Units_F1_M1 + Units_F2_M1 >= 325\n",
              "\n",
              "Demanda_mercado_M2: Units_F1_M2 + Units_F2_M2 >= 300\n",
              "\n",
              "Demanda_mercado_M3: Units_F1_M3 + Units_F2_M3 >= 275\n",
              "\n",
              "VARIABLES\n",
              "0 <= Units_F1_M1 Integer\n",
              "0 <= Units_F1_M2 Integer\n",
              "0 <= Units_F1_M3 Integer\n",
              "0 <= Units_F2_M1 Integer\n",
              "0 <= Units_F2_M2 Integer\n",
              "0 <= Units_F2_M3 Integer"
            ]
          },
          "metadata": {},
          "execution_count": 14
        }
      ],
      "source": [
        "# Crear problema de minimización\n",
        "prob = LpProblem(\"transport_problem\", LpMaximize)\n",
        "\n",
        "# Crear variables de unidades transportadas entre cada fábrica y mercado\n",
        "transported_units = LpVariable.dicts(\"Units\", indices=(factories, markets), lowBound=0, cat=LpInteger)\n",
        "\n",
        "# Añadir función objetivo al problema\n",
        "prob += (lpSum([transported_unit_cost * transported_units[f][m] * distances[m][f] for f in factories for m in markets]), \"Coste transporte\")\n",
        "\n",
        "# Añadir restricciones de no sobrepasar producción de fábricas\n",
        "for f in factories:\n",
        "    prob += (lpSum([transported_units[f][m] for m in markets]) >= offers[f], f\"Tope fábrica {f}\")\n",
        "\n",
        "# Añadir restricciones de satisfacer demandas de mercados\n",
        "for m in markets:\n",
        "    prob += (lpSum([transported_units[f][m] for f in factories]) >= demands[m], f\"Demanda mercado {m}\")\n",
        "\n",
        "# Comprobar que el problema está bien formulado\n",
        "prob"
      ]
    },
    {
      "cell_type": "code",
      "execution_count": null,
      "metadata": {
        "id": "kSWBWBTaaNZ2",
        "colab": {
          "base_uri": "https://localhost:8080/"
        },
        "outputId": "7f109127-f4b8-4f06-e664-041726335973"
      },
      "outputs": [
        {
          "output_type": "stream",
          "name": "stdout",
          "text": [
            "Problema no resuelto óptimamente: Unbounded\n"
          ]
        }
      ],
      "source": [
        "# Resolver el problema, pintar la solución y ver cuánto da de objetivo\n",
        "status_num = prob.solve()\n",
        "status_str = LpStatus[status_num]\n",
        "if status_str == \"Optimal\":\n",
        "  print(\"Problema resuelto óptimamente\")\n",
        "  for v in prob.variables():\n",
        "      print(f\"\\tVariable {v.name} = {value(v)}\")\n",
        "  print(f\"\\tFunción objetivo = {round(value(prob.objective), 2)}\")\n",
        "else:\n",
        "  print(f\"Problema no resuelto óptimamente: {status_str}\")"
      ]
    },
    {
      "cell_type": "markdown",
      "source": [
        "* ¿Hay alguna fábrica que no se use a pleno rendimiento? ¿Qué pasaría si en lugar de minimizar los costes buscáramos maximizarlos?\n",
        "* ¿Y si volviésemos a minimizar los costes, pero en las restricciones dijésemos que las demandas se deben satisfacer de forma exacta?\n",
        "* ¿Y si volviésemos a maximizar los costes, pero además las demandas que nos dan fueran las mínimas que se deben satisfacer, y las producciones de cada fábrica también fuesen las mínimas en lugar de las máximas?"
      ],
      "metadata": {
        "id": "tODqwJ92OQ9D"
      }
    },
    {
      "cell_type": "code",
      "source": [],
      "metadata": {
        "id": "I5G_Qimta-jE"
      },
      "execution_count": null,
      "outputs": []
    }
  ],
  "metadata": {
    "kernelspec": {
      "display_name": "Python 3",
      "language": "python",
      "name": "python3"
    },
    "language_info": {
      "codemirror_mode": {
        "name": "ipython",
        "version": 3
      },
      "file_extension": ".py",
      "mimetype": "text/x-python",
      "name": "python",
      "nbconvert_exporter": "python",
      "pygments_lexer": "ipython3",
      "version": "3.7.6"
    },
    "colab": {
      "provenance": []
    }
  },
  "nbformat": 4,
  "nbformat_minor": 0
}