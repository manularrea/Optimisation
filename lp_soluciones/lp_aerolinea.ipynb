{
  "nbformat": 4,
  "nbformat_minor": 0,
  "metadata": {
    "colab": {
      "provenance": []
    },
    "kernelspec": {
      "name": "python3",
      "display_name": "Python 3"
    },
    "language_info": {
      "name": "python"
    }
  },
  "cells": [
    {
      "cell_type": "markdown",
      "metadata": {
        "id": "Eo4JvxW-aNZv"
      },
      "source": [
        "## Gestión de ingresos de aerolíneas\n",
        "\n",
        "¿A qué tarifa se tienen que asignar asientos del avión para maximizar los ingresos?\n",
        "\n",
        "\n",
        "### Formulación matemática\n",
        "\n",
        "* $t \\in T$: tarifas de asientos\n",
        "* $s_t$: nº de asientos asignados a cada tarifa\n",
        "* $p_t$: precio de un asiento en cada tarifa\n",
        "* $d_t$: tope de demanda de asientos en cada tarifa\n",
        "* $S$: asientos del avión\n",
        "\n",
        "\\begin{eqnarray*}\n",
        "\\max_{s_t} & \\sum_{t \\in T} p_t s_t \\\\\n",
        "\\text{s.t.} & \\\\\n",
        "  & s_t \\leq d_t & \\forall t \\in T \\\\\n",
        "  & \\sum_{t \\in T} s_t \\leq S \\\\\n",
        "  & s_t \\geq 0 & \\forall t \\in T\n",
        "\\end{eqnarray*}\n",
        "\n"
      ]
    },
    {
      "cell_type": "markdown",
      "metadata": {
        "id": "JFZ0MIIIaNZy"
      },
      "source": [
        "### Datos\n",
        "\n",
        "Variables|Tarifa regular|Tarifa con descuento\n",
        "-|-|-\n",
        "Precio (eur)|400|150\n",
        "Tope de demanda (asientos)|75|125\n",
        "\n",
        "* $S$ = 150"
      ]
    },
    {
      "cell_type": "code",
      "source": [
        "from pandas import Series"
      ],
      "metadata": {
        "id": "vC5nWvKKaiAG"
      },
      "execution_count": null,
      "outputs": []
    },
    {
      "cell_type": "code",
      "source": [
        "# Nº de asientos\n",
        "total_seats = 150\n",
        "\n",
        "# Lista con las tarifas disponibles\n",
        "tariffs = [\"Regular\", \"Discount\"]\n",
        "\n",
        "print(total_seats, tariffs)"
      ],
      "metadata": {
        "id": "LgfjMUHja0Al",
        "colab": {
          "base_uri": "https://localhost:8080/"
        },
        "outputId": "c7c01d66-857c-4c62-80f0-291870a93f50"
      },
      "execution_count": null,
      "outputs": [
        {
          "output_type": "stream",
          "name": "stdout",
          "text": [
            "150 ['Regular', 'Discount']\n"
          ]
        }
      ]
    },
    {
      "cell_type": "code",
      "source": [
        "# Serie con los precios de cada tarifa\n",
        "prices = Series(index=tariffs, data=[400, 150])\n",
        "prices"
      ],
      "metadata": {
        "id": "mArqoBdBap6d",
        "colab": {
          "base_uri": "https://localhost:8080/"
        },
        "outputId": "a8dacdbb-67b4-4a53-da71-47a678ab098c"
      },
      "execution_count": null,
      "outputs": [
        {
          "output_type": "execute_result",
          "data": {
            "text/plain": [
              "Regular     400\n",
              "Discount    150\n",
              "dtype: int64"
            ]
          },
          "metadata": {},
          "execution_count": 3
        }
      ]
    },
    {
      "cell_type": "code",
      "source": [
        "# Serie con la demanda de cada tarifa\n",
        "demands = Series(index=tariffs, data=[75, 125])\n",
        "demands"
      ],
      "metadata": {
        "id": "7vR08vA5avSl",
        "colab": {
          "base_uri": "https://localhost:8080/"
        },
        "outputId": "63b1db0c-1838-4d9b-b7fb-b86d78e92a50"
      },
      "execution_count": null,
      "outputs": [
        {
          "output_type": "execute_result",
          "data": {
            "text/plain": [
              "Regular      75\n",
              "Discount    125\n",
              "dtype: int64"
            ]
          },
          "metadata": {},
          "execution_count": 4
        }
      ]
    },
    {
      "cell_type": "markdown",
      "metadata": {
        "id": "2Uyk6eydaNZ1"
      },
      "source": [
        "### Resolución con PuLP"
      ]
    },
    {
      "cell_type": "code",
      "execution_count": null,
      "metadata": {
        "id": "5wI6TH5uaNZ1",
        "colab": {
          "base_uri": "https://localhost:8080/"
        },
        "outputId": "4b9ee0a5-3f07-4d64-a856-e1ea6f9d022d"
      },
      "outputs": [
        {
          "output_type": "stream",
          "name": "stdout",
          "text": [
            "Looking in indexes: https://pypi.org/simple, https://us-python.pkg.dev/colab-wheels/public/simple/\n",
            "Collecting pulp\n",
            "  Downloading PuLP-2.7.0-py3-none-any.whl (14.3 MB)\n",
            "\u001b[2K     \u001b[90m━━━━━━━━━━━━━━━━━━━━━━━━━━━━━━━━━━━━━━━━\u001b[0m \u001b[32m14.3/14.3 MB\u001b[0m \u001b[31m35.5 MB/s\u001b[0m eta \u001b[36m0:00:00\u001b[0m\n",
            "\u001b[?25hInstalling collected packages: pulp\n",
            "Successfully installed pulp-2.7.0\n"
          ]
        }
      ],
      "source": [
        "!pip install pulp\n",
        "from pulp import *"
      ]
    },
    {
      "cell_type": "code",
      "execution_count": null,
      "metadata": {
        "id": "G6jBwBtcaNZ1",
        "colab": {
          "base_uri": "https://localhost:8080/"
        },
        "outputId": "3682f644-b9bc-452e-a87a-a26cca05bfa1"
      },
      "outputs": [
        {
          "output_type": "execute_result",
          "data": {
            "text/plain": [
              "Airfare:\n",
              "MAXIMIZE\n",
              "150*Seats_Discount + 400*Seats_Regular + 0\n",
              "SUBJECT TO\n",
              "_C1: Seats_Regular >= 75\n",
              "\n",
              "_C2: Seats_Discount >= 125\n",
              "\n",
              "_C3: Seats_Discount + Seats_Regular = 150\n",
              "\n",
              "VARIABLES\n",
              "0 <= Seats_Discount Integer\n",
              "0 <= Seats_Regular Integer"
            ]
          },
          "metadata": {},
          "execution_count": 13
        }
      ],
      "source": [
        "# Crear problema de maximización\n",
        "prob = LpProblem(\"Airfare\", LpMaximize)\n",
        "\n",
        "# Crear variables de asientos de cada tarifa\n",
        "seats = LpVariable.dicts(\"Seats\", indices=tariffs, lowBound=0, cat=LpInteger)\n",
        "\n",
        "# Añadir función objetivo al problema\n",
        "prob += lpSum([prices[t] * seats[t] for t in tariffs])\n",
        "\n",
        "# Añadir restricciones de no sobrepasar topes de demandas\n",
        "for t in tariffs:\n",
        "    prob += seats[t] >= demands[t]\n",
        "\n",
        "# Añadir restricción de no sobrepasar total de asientos\n",
        "prob += lpSum([seats[t] for t in tariffs]) == total_seats\n",
        "\n",
        "# Comprobar que el problema está bien formulado\n",
        "prob"
      ]
    },
    {
      "cell_type": "code",
      "execution_count": null,
      "metadata": {
        "id": "kSWBWBTaaNZ2",
        "colab": {
          "base_uri": "https://localhost:8080/"
        },
        "outputId": "e7a61167-5ce8-4b5e-e108-e975ebcaa732"
      },
      "outputs": [
        {
          "output_type": "stream",
          "name": "stdout",
          "text": [
            "Problem not solved optimally: Infeasible\n"
          ]
        }
      ],
      "source": [
        "# Resolver el problema, pintar la solución y ver cuánto da de objetivo\n",
        "status_num = prob.solve()\n",
        "status_str = LpStatus[status_num]\n",
        "if status_str == \"Optimal\":\n",
        "  print(\"Problem solved optimally\")\n",
        "  for v in prob.variables():\n",
        "      print(f\"\\tVariable {v.name} = {value(v)}\")\n",
        "  print(f\"\\tObjective function = {round(value(prob.objective), 2)}\")\n",
        "else:\n",
        "  print(f\"Problem not solved optimally: {status_str}\")"
      ]
    },
    {
      "cell_type": "markdown",
      "source": [
        "* ¿Qué pasaría si en lugar de maximizar la ganancia buscáramos minimizarla?\n",
        "* ¿Y si en las restricciones dijéramos que la suma de asientos debe ser exactamente $S$, en vez de menor o igual que $S$?\n",
        "* ¿Y si suponemos que las demandas que nos dan fueran las mínimas que se deben satisfacer, en lugar de ser las máximas?"
      ],
      "metadata": {
        "id": "qeu8X-mPY-gA"
      }
    },
    {
      "cell_type": "code",
      "source": [],
      "metadata": {
        "id": "I5G_Qimta-jE"
      },
      "execution_count": null,
      "outputs": []
    }
  ]
}